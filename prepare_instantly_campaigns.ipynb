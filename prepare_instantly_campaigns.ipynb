{
  "nbformat": 4,
  "nbformat_minor": 0,
  "metadata": {
    "colab": {
      "provenance": [],
      "include_colab_link": true
    },
    "kernelspec": {
      "name": "python3",
      "display_name": "Python 3"
    },
    "language_info": {
      "name": "python"
    }
  },
  "cells": [
    {
      "cell_type": "markdown",
      "metadata": {
        "id": "view-in-github",
        "colab_type": "text"
      },
      "source": [
        "<a href=\"https://colab.research.google.com/github/joiedevivre02/joiedevivre02/blob/main/prepare_instantly_campaigns.ipynb\" target=\"_parent\"><img src=\"https://colab.research.google.com/assets/colab-badge.svg\" alt=\"Open In Colab\"/></a>"
      ]
    },
    {
      "cell_type": "code",
      "execution_count": null,
      "metadata": {
        "id": "jymcXz6F1j4a"
      },
      "outputs": [],
      "source": [
        "#@title Project info\n",
        "#Combine leads info into a single tracker"
      ]
    },
    {
      "cell_type": "code",
      "execution_count": null,
      "metadata": {
        "id": "SeuozWehvABW"
      },
      "outputs": [],
      "source": [
        "#@title Initialize\n",
        "import pandas as pd\n",
        "from google.colab import auth\n",
        "auth.authenticate_user()\n",
        "\n",
        "import gspread\n",
        "from google.auth import default\n",
        "creds, _ = default()\n",
        "\n",
        "gc = gspread.authorize(creds)\n"
      ]
    },
    {
      "cell_type": "code",
      "source": [
        "#@title Enter url of source file\n",
        "#this contains all the links to the files and sheet names\n",
        "#replace link\n",
        "# url = 'https://docs.google.com/spreadsheets/d/1tZGu3GBvl2qPGh0yluc_mtWZl7CKhi4b7jfVrTUFwzk/edit#gid=62501885'\n",
        "# url = 'https://docs.google.com/spreadsheets/d/1py1TBG3M0gSGnS6efIHl2fIKUqq8KhSHsUD1kKsD6yU/edit#gid=507012045'\n",
        "url = 'https://docs.google.com/spreadsheets/d/1Jzc8_sPWrzPcEK21o5lLQ1m_7vq1g0UbBajKGxCZEb0/edit#gid=0'\n",
        "wb = gc.open_by_url(url)"
      ],
      "metadata": {
        "id": "t8Vxv8v74mtE"
      },
      "execution_count": null,
      "outputs": []
    },
    {
      "cell_type": "code",
      "source": [
        "#@title Open the Google Sheet file you want to write your new data in and then insert the data with the set function\n",
        "from gspread_dataframe import get_as_dataframe, set_with_dataframe\n",
        "\n",
        "def save_to_sheets(name_of_sheet, dataframe, row_number, col_number, url):\n",
        "    wb3 = gc.open_by_url(url)\n",
        "    sheet_output = wb3.worksheet(name_of_sheet)\n",
        "    set_with_dataframe(sheet_output, dataframe, row=row_number, col=col_number)\n"
      ],
      "metadata": {
        "id": "RfZeeVDC0gh4"
      },
      "execution_count": null,
      "outputs": []
    },
    {
      "cell_type": "code",
      "source": [
        "#@title Read source and convert to dataframe\n",
        "\n",
        "def read_df(worksheet, sheet_name):\n",
        "    df = worksheet.worksheet(sheet_name)\n",
        "    df = df.get_all_values()\n",
        "    df = pd.DataFrame(df)\n",
        "    df.columns = df.iloc[0].str.upper()\n",
        "    df = df.iloc[1:]\n",
        "    return df\n"
      ],
      "metadata": {
        "id": "-5T748K35gVh"
      },
      "execution_count": null,
      "outputs": []
    },
    {
      "cell_type": "code",
      "source": [
        "#@title Part II- Workbooks with conditional notes\n",
        "\n",
        "# all_sheet = read_df(url=workbook_name_links['Completed - 2024.03 - Landscapers\n",
        "# - Multivariable'].iloc[0], sheet_name='Chase')\n",
        "#Concatenate all sheets and add source_name column to indicate source\n",
        "# Get a list of all spreadsheets\n",
        "def combine_sheets(url):\n",
        "      # Open the spreadsheet by its ID\n",
        "      wb2 = gc.open_by_url(url)\n",
        "\n",
        "      # Get all worksheets in the spreadsheet\n",
        "      worksheets = wb2.worksheets()\n",
        "\n",
        "      # Initialize a list to hold all DataFrames from all worksheets\n",
        "      dfs = []\n",
        "\n",
        "      # Iterate over each worksheet, retrieve all values, and append them to dfs\n",
        "      for worksheet in worksheets:\n",
        "          values = worksheet.get_all_values()\n",
        "          df = pd.DataFrame(values[1:], columns=values[0]) # Skip the header row\n",
        "          df['Sheet'] = worksheet.title # Add a column for the sheet name\n",
        "          dfs.append(df)\n",
        "      # Concatenate all DataFrames into a single DataFrame\n",
        "      final_df = pd.concat(dfs, ignore_index=True)\n",
        "\n",
        "      return final_df\n"
      ],
      "metadata": {
        "id": "JL-irdutFVNQ"
      },
      "execution_count": null,
      "outputs": []
    },
    {
      "cell_type": "code",
      "source": [
        "import pandas as pd\n",
        "\n",
        "# Assuming df is your DataFrame\n",
        "def check_first_name_condition(row):\n",
        "    if pd.isnull(row['first_name']) or row['first_name'].lower() == 'there':\n",
        "        return True\n",
        "    else:\n",
        "        return False\n",
        "\n",
        "def first_name_flex(df):\n",
        "\n",
        "     # Add a new column \"First_name_flex\" based on the conditions\n",
        "     df['first_name_flex'] = np.where(\n",
        "        (df['first_name'].isnull()) | (df['first_name'] == 'there'),\n",
        "        df['cleaned_company_name'],\n",
        "        df['first_name'])\n",
        "     return df\n",
        "\n"
      ],
      "metadata": {
        "id": "gZ5sAUylAQKm"
      },
      "execution_count": null,
      "outputs": []
    },
    {
      "cell_type": "code",
      "source": [
        "#@title Step 1\n",
        "\n",
        "workbook=\"https://docs.google.com/spreadsheets/d/1Jzc8_sPWrzPcEK21o5lLQ1m_7vq1g0UbBajKGxCZEb0/edit#gid=0\"\n",
        "combined = combine_sheets(workbook)\n",
        "# Add a new column 'Condition' to the DataFrame\n",
        "combined['first_name'] = combined['first_name'].astype('string')\n",
        "\n",
        "combined['first_name_null'] = combined.apply(check_first_name_condition, axis=1)\n",
        "\n",
        "#check previous copy of campaign variables\n",
        "# tavus_thumbnail_url\n",
        "# tavus_video\n",
        "\n",
        "#replace fields\n",
        "combined.rename(columns={\"url_with_query_string\": \"tavus_video\", \"gif_thumbnail_url\":\"tavus_thumbnail_url\"}, inplace=True)\n",
        "combined['tavus_video'] = combined['tavus_video'].astype('string')\n",
        "\n",
        "#tavus video is the column referring to different columns\n"
      ],
      "metadata": {
        "id": "Y-ps73TF3yyn"
      },
      "execution_count": null,
      "outputs": []
    },
    {
      "cell_type": "code",
      "source": [
        "#check how many are null video\n",
        "empty_string_counts = combined[combined['tavus_video'] == \"\"].groupby('Sheet').size().reset_index(name='counts')\n",
        "print(empty_string_counts)\n"
      ],
      "metadata": {
        "colab": {
          "base_uri": "https://localhost:8080/"
        },
        "id": "kcUG87otBcSN",
        "outputId": "be34b191-d962-4519-f781-772249a30a44"
      },
      "execution_count": null,
      "outputs": [
        {
          "output_type": "stream",
          "name": "stdout",
          "text": [
            "                  Sheet  counts\n",
            "0   David - Retargeting      14\n",
            "1  Eva - Website Script       3\n"
          ]
        }
      ]
    },
    {
      "cell_type": "code",
      "source": [
        "combined['Sheet'].unique()"
      ],
      "metadata": {
        "colab": {
          "base_uri": "https://localhost:8080/"
        },
        "id": "s9isF87N8NId",
        "outputId": "c4c5d1b3-130f-4b36-b89e-22abf180d9aa"
      },
      "execution_count": null,
      "outputs": [
        {
          "output_type": "execute_result",
          "data": {
            "text/plain": [
              "array(['David - Website Script', 'David - Retargeting',\n",
              "       'Eva - Website Script'], dtype=object)"
            ]
          },
          "metadata": {},
          "execution_count": 9
        }
      ]
    },
    {
      "cell_type": "code",
      "source": [
        "#check if first_name is not null\n",
        "combined['first_name_null'].unique()"
      ],
      "metadata": {
        "colab": {
          "base_uri": "https://localhost:8080/"
        },
        "id": "xDcVP2tqAUFN",
        "outputId": "94a8a344-47c3-4d1b-8635-eaeefa89e1c9"
      },
      "execution_count": null,
      "outputs": [
        {
          "output_type": "execute_result",
          "data": {
            "text/plain": [
              "array([ True])"
            ]
          },
          "metadata": {},
          "execution_count": 11
        }
      ]
    },
    {
      "cell_type": "code",
      "source": [
        "select_sheets = ['David - Website Script', 'David - Retargeting']\n",
        "combined=combined[combined['Sheet'].isin(select_sheets)]"
      ],
      "metadata": {
        "id": "fZDY6WLPrtIX"
      },
      "execution_count": null,
      "outputs": []
    },
    {
      "cell_type": "code",
      "source": [
        "#@title Remove null tavus videos and update tracker\n",
        "\n",
        "combined_all = combined.copy()\n",
        "\n",
        "#remove with null tavus video and add first_name_flex\n",
        "with_video=combined_all[combined_all['tavus_video']!=\"\"]\n",
        "\n",
        "import numpy as np\n",
        "with_video_flex=first_name_flex(with_video)\n",
        "\n",
        "\n",
        "columns_to_keep_tracker = [\n",
        "'id',\n",
        "'batch_name',\n",
        "'cleaned_company_name',\n",
        "'industry',\n",
        "'phone_number',\n",
        "'email',\n",
        "'first_name_flex',\n",
        "'first_name'\n",
        "]\n",
        "\n",
        "import numpy as np\n",
        "with_video_select = with_video_flex[columns_to_keep_tracker]\n",
        "\n",
        "\n",
        "\n",
        "#SAVE TO RLDB ASSIGNED TRACKER\n",
        "output_workbook = \"https://docs.google.com/spreadsheets/d/18nCENIA-4bIHW0b4B2R-yJEKz8JbBb41uaCnb0mCsjc/edit#gid=1407520858\"\n",
        "\n",
        "save_to_sheets(\"WIP\", dataframe=with_video_select, row_number=1, col_number=1, url=output_workbook)\n",
        "\n",
        "\n"
      ],
      "metadata": {
        "id": "juTGsv6r8Ri2",
        "colab": {
          "base_uri": "https://localhost:8080/"
        },
        "outputId": "fbce65f9-e97f-45fb-885d-bed603194b74"
      },
      "execution_count": null,
      "outputs": [
        {
          "output_type": "stream",
          "name": "stderr",
          "text": [
            "<ipython-input-6-fd3d55082687>:13: SettingWithCopyWarning: \n",
            "A value is trying to be set on a copy of a slice from a DataFrame.\n",
            "Try using .loc[row_indexer,col_indexer] = value instead\n",
            "\n",
            "See the caveats in the documentation: https://pandas.pydata.org/pandas-docs/stable/user_guide/indexing.html#returning-a-view-versus-a-copy\n",
            "  df['first_name_flex'] = np.where(\n"
          ]
        }
      ]
    },
    {
      "cell_type": "code",
      "source": [
        "\n",
        "\n",
        "columns_to_keep = ['city',\n",
        " 'email',\n",
        " 'state',\n",
        " 'industry',\n",
        " 'prompt_1',\n",
        " 'prompt_2',\n",
        " #'phone',\n",
        " 'first_name',\n",
        " 'rep_full_name',\n",
        " 'rep_first_name',\n",
        " 'cleaned_company_name',\n",
        " 'tavus_thumbnail_url',\n",
        " 'tavus_video']\n",
        "\n",
        "\n",
        "result_df = with_video[columns_to_keep]\n",
        "output_workbook = \"https://docs.google.com/spreadsheets/d/1Jzc8_sPWrzPcEK21o5lLQ1m_7vq1g0UbBajKGxCZEb0/edit#gid=0\"\n",
        "\n",
        "save_to_sheets(\"Sheet1\", dataframe=result_df, row_number=1, col_number=1, url=output_workbook)\n",
        "\n"
      ],
      "metadata": {
        "id": "XjOCFWFssugF"
      },
      "execution_count": null,
      "outputs": []
    },
    {
      "cell_type": "code",
      "source": [
        "#@title Split file into with first_name, and without\n",
        "\n",
        "\n",
        "#without first name\n",
        "combined_subset = with_video[with_video['first_name_null']==True]\n",
        "\n",
        "#with first name\n",
        "# combined_subset = with_video[with_video['first_name_null']==False]\n",
        "\n",
        "richard = combined_subset[combined_subset['Sheet']==\"richard\"]\n",
        "dvaire = combined_subset[combined_subset['Sheet']==\"dvaire\"]\n",
        "patrick  = combined_subset[combined_subset['Sheet']==\"patrick\"]\n",
        "jd = combined_subset[combined_subset['Sheet']==\"jd\"]\n",
        "eva = combined_subset[combined_subset['Sheet']==\"eva\"]\n",
        "isabel = combined_subset[combined_subset['Sheet']==\"isabel\"]\n",
        "david = combined_subset[combined_subset['Sheet']==\"david\"]\n",
        "pete = combined_subset[combined_subset['Sheet']==\"pete\"]\n",
        "chase = combined_subset[combined_subset['Sheet']==\"chase\"]\n",
        "dan = combined_subset[combined_subset['Sheet']==\"dan\"]"
      ],
      "metadata": {
        "id": "WAXLo80OF2LY"
      },
      "execution_count": null,
      "outputs": []
    },
    {
      "cell_type": "code",
      "source": [
        "#recheck empty url\n",
        "\n",
        "#check how many are null video\n",
        "empty_string_counts = combined_subset[combined_subset['tavus_video'] == \"\"].groupby('Sheet').size().reset_index(name='counts')\n",
        "print(empty_string_counts)\n"
      ],
      "metadata": {
        "colab": {
          "base_uri": "https://localhost:8080/"
        },
        "id": "jzjLzrH9MkGO",
        "outputId": "8da25da8-35df-4c60-adaa-38a161a1a4bb"
      },
      "execution_count": null,
      "outputs": [
        {
          "output_type": "stream",
          "name": "stdout",
          "text": [
            "Empty DataFrame\n",
            "Columns: [Sheet, counts]\n",
            "Index: []\n"
          ]
        }
      ]
    },
    {
      "cell_type": "code",
      "source": [],
      "metadata": {
        "id": "7JlAmcaMUOZh"
      },
      "execution_count": null,
      "outputs": []
    },
    {
      "cell_type": "code",
      "source": [
        "#combined_filtered = combined[columns_to_keep]\n",
        "richard = richard[columns_to_keep]\n",
        "dvaire = dvaire[columns_to_keep]\n",
        "patrick  = patrick[columns_to_keep]\n",
        "jd = jd[columns_to_keep]\n",
        "eva = eva[columns_to_keep]\n",
        "isabel = isabel[columns_to_keep]\n",
        "david = david[columns_to_keep]\n",
        "pete = pete[columns_to_keep]\n",
        "chase = chase[columns_to_keep]\n",
        "dan = dan[columns_to_keep]\n",
        "\n"
      ],
      "metadata": {
        "id": "jcKNT_kx74zG"
      },
      "execution_count": null,
      "outputs": []
    },
    {
      "cell_type": "code",
      "source": [
        "#@title Export Concatenated tables\n",
        "\n",
        "#without_first_name\n",
        "output_workbook = \"https://docs.google.com/spreadsheets/d/1-2y080pxvdx5pX2NY65tuINXXWTEP_QY5x7IwjAMDLo/edit#gid=0\"\n",
        "\n",
        "#with_first_name\n",
        "# output_workbook = \"https://docs.google.com/spreadsheets/d/1kpFmQt54ObcYWfjTo0hFOb-MINEKJk8unHg9phHjjAQ/edit#gid=187673915\"\n",
        "\n",
        "\n",
        "\n",
        "save_to_sheets(\"richard\", dataframe=richard, row_number=1, col_number=1, url=output_workbook)\n",
        "save_to_sheets(\"dvaire\", dataframe=dvaire, row_number=1, col_number=1, url=output_workbook)\n",
        "save_to_sheets(\"patrick\", dataframe=patrick, row_number=1, col_number=1, url=output_workbook)\n",
        "save_to_sheets(\"jd\", dataframe=jd, row_number=1, col_number=1, url=output_workbook)\n",
        "save_to_sheets(\"eva\", dataframe=eva, row_number=1, col_number=1, url=output_workbook)\n",
        "save_to_sheets(\"isabel\", dataframe=isabel, row_number=1, col_number=1, url=output_workbook)\n",
        "save_to_sheets(\"david\", dataframe=david, row_number=1, col_number=1, url=output_workbook)\n",
        "save_to_sheets(\"pete\", dataframe=pete, row_number=1, col_number=1, url=output_workbook)\n",
        "save_to_sheets(\"chase\", dataframe=chase, row_number=1, col_number=1, url=output_workbook)\n",
        "save_to_sheets(\"dan\", dataframe=dan, row_number=1, col_number=1, url=output_workbook)"
      ],
      "metadata": {
        "id": "O2JrowfacJ_e"
      },
      "execution_count": null,
      "outputs": []
    }
  ]
}