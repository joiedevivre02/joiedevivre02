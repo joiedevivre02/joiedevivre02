{
  "nbformat": 4,
  "nbformat_minor": 0,
  "metadata": {
    "colab": {
      "provenance": [],
      "include_colab_link": true
    },
    "kernelspec": {
      "name": "python3",
      "display_name": "Python 3"
    },
    "language_info": {
      "name": "python"
    }
  },
  "cells": [
    {
      "cell_type": "markdown",
      "metadata": {
        "id": "view-in-github",
        "colab_type": "text"
      },
      "source": [
        "<a href=\"https://colab.research.google.com/github/joiedevivre02/joiedevivre02/blob/main/Repeat_Users_Analysis.ipynb\" target=\"_parent\"><img src=\"https://colab.research.google.com/assets/colab-badge.svg\" alt=\"Open In Colab\"/></a>"
      ]
    },
    {
      "cell_type": "code",
      "execution_count": null,
      "metadata": {
        "colab": {
          "base_uri": "https://localhost:8080/"
        },
        "id": "XQ3vPetPTVJ1",
        "outputId": "03a00b3b-5401-490e-8c3a-da2af9f9b2b4"
      },
      "outputs": [
        {
          "output_type": "stream",
          "name": "stdout",
          "text": [
            "Mounted at /content/gdrive/\n"
          ]
        }
      ],
      "source": [
        "import pandas as pd\n",
        "import numpy as numpy\n",
        "import os\n",
        "import datetime as dt\n",
        "\n",
        "from google.colab import drive\n",
        "drive.mount('/content/gdrive/', force_remount=True)"
      ]
    },
    {
      "cell_type": "code",
      "source": [
        "# Import and check dataframe\n",
        "rootpath = '/content/gdrive/MyDrive/superapp_interns/Assignment/JM'\n",
        "\n",
        "df = pd.read_csv(os.path.join(rootpath, 'repeat_users.csv'), dtype={'number':'object'})\n",
        "df['datetime'] = pd.to_datetime(df['datetime'])\n",
        "df.info()"
      ],
      "metadata": {
        "id": "WspP-vflTygc",
        "colab": {
          "base_uri": "https://localhost:8080/"
        },
        "outputId": "77fe5d97-1254-4a28-c882-439919b333e3"
      },
      "execution_count": null,
      "outputs": [
        {
          "output_type": "stream",
          "name": "stdout",
          "text": [
            "<class 'pandas.core.frame.DataFrame'>\n",
            "Int64Index: 33 entries, 30 to 29\n",
            "Data columns (total 4 columns):\n",
            " #   Column    Non-Null Count  Dtype         \n",
            "---  ------    --------------  -----         \n",
            " 0   number    32 non-null     object        \n",
            " 1   datetime  33 non-null     datetime64[ns]\n",
            " 2   service   33 non-null     object        \n",
            " 3   result    33 non-null     object        \n",
            "dtypes: datetime64[ns](1), object(3)\n",
            "memory usage: 1.3+ KB\n"
          ]
        }
      ]
    },
    {
      "cell_type": "code",
      "source": [
        "# Show different end result\n",
        "df[\"result\"].unique()"
      ],
      "metadata": {
        "colab": {
          "base_uri": "https://localhost:8080/"
        },
        "id": "cBI9mBf2AzSa",
        "outputId": "6ed6d861-1da2-40ea-d1ed-22031a528434"
      },
      "execution_count": null,
      "outputs": [
        {
          "output_type": "execute_result",
          "data": {
            "text/plain": [
              "array(['system_cancelled', 'completed', 'patient_no_show'], dtype=object)"
            ]
          },
          "metadata": {},
          "execution_count": 16
        }
      ]
    },
    {
      "cell_type": "code",
      "source": [
        "\"\"\"\n",
        "Cancellation Cases\n",
        "\n",
        "Cases that have not yet tried again.\n",
        "  Case#1: Get cancelled, with no history\n",
        "  Case#2: Get cancelled, with most recent history of getting cancelled\n",
        "  Case#3: Get cancelled, with most recent history of NOT getting cancelled\n",
        "\n",
        "Cases that tries again after cancellation\n",
        "  Case#4: Get cancelled, with no history\n",
        "  Case#5: Get cancelled, with most recent history of getting cancelled\n",
        "  Case#6: Get cancelled, with most recent history of NOT getting cancelled\n",
        "\"\"\"\n",
        "\n",
        "case_1 = []\n",
        "case_2 = []\n",
        "case_3 = []\n",
        "case_4 = []\n",
        "case_5 = []\n",
        "case_6 = []\n",
        "\n",
        "# Holds user(number) of having only one row (no_history)\n",
        "no_history = []\n",
        "\n",
        "# Group rows by user(number) then iterate over each group\n",
        "for name, group in df.groupby(\"number\"):\n",
        "\n",
        "  # Reverse to start at most recent transaction\n",
        "  group = group.sort_values('datetime', ascending=False, ignore_index=True)\n",
        "  series = group[\"result\"].reset_index(drop=True)\n",
        "\n",
        "  # Case conditions\n",
        "  if len(series) == 1 and series[0] == 'system_cancelled':\n",
        "    case_1.append(name)\n",
        "    continue\n",
        "\n",
        "  for i in range(len(series)-1):\n",
        "    if i!=len(series)-1:\n",
        "\n",
        "      if series[i] == 'system_cancelled':\n",
        "        if series[i+1] == 'system_cancelled' and i==0:\n",
        "          case_2.append(name)\n",
        "        elif series[i+1] != 'system_cancelled' and i==0:\n",
        "          case_3.append(name)\n",
        "        elif series[i+1] == 'system_cancelled' and i>0:\n",
        "          case_5.append(name)\n",
        "        elif series[i+1] != 'system_cancelled' and i>0:\n",
        "          case_6.append(name)\n",
        "        break\n",
        "\n",
        "      elif series.iloc[-1] == 'system_cancelled':\n",
        "          case_4.append(name)\n",
        "          break\n",
        "\n",
        "# Verify counts for each caes, must be total to the original number of rows\n",
        "len(df[\"number\"].unique()), len(num_users_with_cancel), len(case_1), len(case_2), len(case_3), len(case_4), len(case_5), len(case_6)"
      ],
      "metadata": {
        "id": "i86WnbarWn3p"
      },
      "execution_count": null,
      "outputs": []
    },
    {
      "cell_type": "code",
      "source": [
        "# Convert to list\n",
        "series = case_1, case_2, case_3, case_4, case_5, case_6\n",
        "series = pd.Series([len(df[\"number\"].unique()), len(case_1), len(case_2), len(case_3), len(case_4), len(case_5), len(case_6)])\n",
        "series.index = [\"unique\", \"with cancel\", \"case_1\", \"case_2\", \"case_3\", \"case_4\", \"case_5\", \"case_6\"]"
      ],
      "metadata": {
        "id": "JSJAHHfUSbQF"
      },
      "execution_count": null,
      "outputs": []
    },
    {
      "cell_type": "code",
      "source": [
        "# Display\n",
        "series"
      ],
      "metadata": {
        "id": "GVWp1Q-WTXdG"
      },
      "execution_count": null,
      "outputs": []
    },
    {
      "cell_type": "code",
      "source": [],
      "metadata": {
        "id": "U1Jm9i5yTYgR"
      },
      "execution_count": null,
      "outputs": []
    }
  ]
}